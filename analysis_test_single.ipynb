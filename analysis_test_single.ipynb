{
 "cells": [
  {
   "cell_type": "code",
   "execution_count": 19,
   "metadata": {},
   "outputs": [],
   "source": [
    "import numpy as np\n",
    "\n",
    "list_results = []\n",
    "\n",
    "opt_data = 'milp_cl'\n",
    "opt_preprocess = 'original'\n",
    "\n",
    "if opt_preprocess == 'reduced':\n",
    "    job_list = list(range(64))\n",
    "    hyperpar_set = np.load('training_data_%s/milp_cl_N40_hyperparm_set.npy' %opt_preprocess, allow_pickle=True).item()\n",
    "elif opt_preprocess == 'original':\n",
    "    job_list = list(range(16))\n",
    "\n",
    "for i in job_list:\n",
    "    if opt_preprocess == 'reduced':\n",
    "        test_data = np.load('tests_single_%s//test_cl_%s_N40_%.3d_weight.npy' %(opt_preprocess, opt_data, i), allow_pickle=True).item()\n",
    "    elif opt_preprocess == 'original':\n",
    "        test_data = np.load('tests_single_%s//test_cl_%s_%s_N40_%.3d.npy' %(opt_preprocess, opt_preprocess, opt_data, i), allow_pickle=True).item()\n",
    "    # list_results.append(test_data)\n",
    "    feas_rate = 1-test_data['cntr_infeas_total_learning_lp']/test_data['array_learning_lp'].shape[0]\n",
    "    list_results.append([test_data['array_learning_lp'][:,2].mean(), feas_rate*100, i, hyperpar_set[str(i)]])"
   ]
  },
  {
   "cell_type": "code",
   "execution_count": 25,
   "metadata": {},
   "outputs": [
    {
     "data": {
      "text/plain": [
       "3509"
      ]
     },
     "execution_count": 25,
     "metadata": {},
     "output_type": "execute_result"
    }
   ],
   "source": [
    "test_data['array_learning_lp'].shape[0]\n",
    "test_data['cntr_infeas_total_learning_lp']"
   ]
  },
  {
   "cell_type": "code",
   "execution_count": 18,
   "metadata": {},
   "outputs": [
    {
     "name": "stdout",
     "output_type": "stream",
     "text": [
      "[11.68163675405606, 50.487574709027996, 14, ('Network', 32, 0.5, 7, True, 3)]\n",
      "[12.163083349790842, 47.790507364975454, 15, ('Network', 32, 0.5, 7, True, 4)]\n",
      "[12.316071004560301, 48.463177115033474, 12, ('Network', 32, 0.5, 7, True, 1)]\n",
      "[12.355719225219424, 51.63720660678064, 1, ('Network', 32, 0, 7, False, 2)]\n",
      "[12.932986362978735, 48.93069625341695, 0, ('Network', 32, 0, 7, False, 1)]\n",
      "[12.988925649813206, 47.880667552798705, 10, ('Network', 32, 0.5, 7, False, 3)]\n",
      "[13.173162759090944, 48.983500294637594, 7, ('Network', 32, 0, 7, True, 4)]\n",
      "[13.193033120132048, 48.1134834747002, 3, ('Network', 32, 0, 7, False, 4)]\n",
      "[13.465633109622322, 47.771163060839264, 11, ('Network', 32, 0.5, 7, False, 4)]\n",
      "[13.466762869232062, 49.41929720071471, 2, ('Network', 32, 0, 7, False, 3)]\n",
      "[13.552300294707502, 48.295866569978244, 6, ('Network', 32, 0, 7, True, 3)]\n",
      "[13.641003307619096, 51.15089514066496, 8, ('Network', 32, 0.5, 7, False, 1)]\n",
      "[14.772470375442492, 48.599105812220564, 13, ('Network', 32, 0.5, 7, True, 2)]\n",
      "[14.83083958069879, 46.60466489518748, 9, ('Network', 32, 0.5, 7, False, 2)]\n",
      "[14.84606973705399, 47.120733724252, 4, ('Network', 32, 0, 7, True, 1)]\n",
      "[14.907617480102612, 49.589000149454485, 5, ('Network', 32, 0, 7, True, 2)]\n"
     ]
    },
    {
     "data": {
      "text/plain": [
       "(51, 17, 21, 55, 49, 23, 19, 53, 61, 29, 25, 27, 57, 59, 31)"
      ]
     },
     "execution_count": 18,
     "metadata": {},
     "output_type": "execute_result"
    }
   ],
   "source": [
    "def myFunc(e):\n",
    "  return e[0]\n",
    "\n",
    "list_results.sort(key=myFunc, reverse=False)\n",
    "\n",
    "for i in job_list:\n",
    "    \tprint(list_results[i])\n",
    "     \n",
    "\n",
    "51, 17, 21, 55, 49, 23, 19, 53, 61, 29, 25, 27, 57, 59, 31 # for reduced\n",
    "14, 15, 12, 1, 0, 10, 7, 3, 11, 2, 6, 8, 13, 9, 4 # for original\n"
   ]
  },
  {
   "cell_type": "code",
   "execution_count": 16,
   "metadata": {},
   "outputs": [
    {
     "name": "stdout",
     "output_type": "stream",
     "text": [
      "[12.355719225219424, 51.63720660678064, 1, ('Network', 32, 0, 7, False, 2)]\n",
      "[13.641003307619096, 51.15089514066496, 8, ('Network', 32, 0.5, 7, False, 1)]\n",
      "[11.68163675405606, 50.487574709027996, 14, ('Network', 32, 0.5, 7, True, 3)]\n",
      "[14.907617480102612, 49.589000149454485, 5, ('Network', 32, 0, 7, True, 2)]\n",
      "[13.466762869232062, 49.41929720071471, 2, ('Network', 32, 0, 7, False, 3)]\n",
      "[13.173162759090944, 48.983500294637594, 7, ('Network', 32, 0, 7, True, 4)]\n",
      "[12.932986362978735, 48.93069625341695, 0, ('Network', 32, 0, 7, False, 1)]\n",
      "[14.772470375442492, 48.599105812220564, 13, ('Network', 32, 0.5, 7, True, 2)]\n",
      "[12.316071004560301, 48.463177115033474, 12, ('Network', 32, 0.5, 7, True, 1)]\n",
      "[13.552300294707502, 48.295866569978244, 6, ('Network', 32, 0, 7, True, 3)]\n",
      "[13.193033120132048, 48.1134834747002, 3, ('Network', 32, 0, 7, False, 4)]\n",
      "[12.988925649813206, 47.880667552798705, 10, ('Network', 32, 0.5, 7, False, 3)]\n",
      "[12.163083349790842, 47.790507364975454, 15, ('Network', 32, 0.5, 7, True, 4)]\n",
      "[13.465633109622322, 47.771163060839264, 11, ('Network', 32, 0.5, 7, False, 4)]\n",
      "[14.84606973705399, 47.120733724252, 4, ('Network', 32, 0, 7, True, 1)]\n",
      "[14.83083958069879, 46.60466489518748, 9, ('Network', 32, 0.5, 7, False, 2)]\n"
     ]
    },
    {
     "data": {
      "text/plain": [
       "(51, 17, 21, 55, 49, 23, 19, 53, 61, 29, 25, 27, 57, 59, 31)"
      ]
     },
     "execution_count": 16,
     "metadata": {},
     "output_type": "execute_result"
    }
   ],
   "source": [
    "def myFunc(e):\n",
    "  return e[1]\n",
    "\n",
    "list_results.sort(key=myFunc, reverse=True)\n",
    "\n",
    "for i in job_list:\n",
    "    \tprint(list_results[i])\n",
    "     "
   ]
  }
 ],
 "metadata": {
  "kernelspec": {
   "display_name": "RL_env",
   "language": "python",
   "name": "python3"
  },
  "language_info": {
   "codemirror_mode": {
    "name": "ipython",
    "version": 3
   },
   "file_extension": ".py",
   "mimetype": "text/x-python",
   "name": "python",
   "nbconvert_exporter": "python",
   "pygments_lexer": "ipython3",
   "version": "3.12.3"
  }
 },
 "nbformat": 4,
 "nbformat_minor": 2
}
