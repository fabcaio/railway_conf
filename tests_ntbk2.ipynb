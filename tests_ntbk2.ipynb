{
 "cells": [
  {
   "cell_type": "code",
   "execution_count": 2,
   "metadata": {},
   "outputs": [],
   "source": [
    "import numpy as np\n",
    "from rail_rl_env import RailNet, d_pre, rho_whole, un, ul, uy, ua, ud, ur, depot, mdl_feasible, action_dict, gurobi_minlp, gurobi_nlp_presolve, gurobi_lp_presolve, gurobi_milp, num_station\n",
    "import matplotlib.pyplot as plt\n",
    "from rail_fun import norm_state\n",
    "\n",
    "N=40\n",
    "Env = RailNet(N)\n",
    "Env.set_randState(d_pre, rho_whole, un, ul, uy, ua, ud, ur, depot)"
   ]
  },
  {
   "cell_type": "code",
   "execution_count": null,
   "metadata": {},
   "outputs": [
    {
     "name": "stdout",
     "output_type": "stream",
     "text": [
      "num_actions = 285\n",
      "number of training points (before reduction): 264562\n",
      "number of validation points (before reduction): 33070\n",
      "number of test points (before reduction): 33070\n",
      "number of training points (after reduction): 252207\n",
      "number of validation points (after reduction): 31581\n",
      "number of test points (after reduction): 31756\n",
      "cntr_outlier_train: 12355\t cntr_outlier_val: 1489 cntr_outlier_test: 1314\n",
      "data-processing finished\n",
      "torch.Size([252207, 748])\n"
     ]
    }
   ],
   "source": [
    "#inspect reduced dataset\n",
    "\n",
    "from rail_data_preprocess_reduced import get_preprocessed_data_reduced\n",
    "import torch\n",
    "\n",
    "opt = 'milp_cl'\n",
    "opt_preprocess = 'reduced'\n",
    "threshold_counts = 50\n",
    "opt_label = 'classification'\n",
    "opt_state = 4\n",
    "testing = True\n",
    "\n",
    "dict_data = get_preprocessed_data_reduced(opt, opt_preprocess, threshold_counts, N, opt_state, opt_label,testing)\n",
    "\n",
    "N_control = dict_data['N_control']\n",
    "stacked_actions_reduced_val = dict_data['stacked_actions_reduced_val']\n",
    "list_masks = dict_data['list_masks']\n",
    "stacked_states_val_tensor = dict_data['stacked_states_val_tensor']\n",
    "input_size = dict_data['input_size']\n",
    "total_action_set = dict_data['total_action_set']\n",
    "state_min = dict_data['state_min']\n",
    "state_max = dict_data['state_max']\n",
    "stacked_states_train_tensor = dict_data['stacked_states_train_tensor']\n",
    "\n",
    "print(stacked_states_train_tensor.shape)"
   ]
  },
  {
   "cell_type": "code",
   "execution_count": null,
   "metadata": {},
   "outputs": [
    {
     "name": "stdout",
     "output_type": "stream",
     "text": [
      "num_actions = 237\n",
      "number of training points (before reduction): 96000\n",
      "number of validation points (before reduction): 24000\n",
      "number of training points (after reduction): 94871\n",
      "number of validation points (after reduction): 23704\n",
      "cntr_outlier_train: 1129\t cntr_outlier_val: 296\n",
      "data-processing finished\n",
      "torch.Size([94871, 1, 4002])\n"
     ]
    }
   ],
   "source": [
    "#inspect original dataset\n",
    "\n",
    "from rail_data_preprocess_reduced import get_preprocessed_data\n",
    "output_get_preprocessed_data = get_preprocessed_data(opt='milp_ol', threshold_counts=25, N=N)\n",
    "print(output_get_preprocessed_data[7].shape)\n"
   ]
  },
  {
   "cell_type": "code",
   "execution_count": 54,
   "metadata": {},
   "outputs": [],
   "source": [
    "def downsample_average_state_rho(arr, n):\n",
    "    \n",
    "    \"\"\"\n",
    "    inputs:\n",
    "        arr: is expected to be Env.state_rho with shape (num_line, pred_horizon+1, 2*num_max_stations)=(3,41,38)\n",
    "        n: is the downsampling step\n",
    "    \n",
    "    output: is the downsized passenger flow (3,m,38) where m is floor(41/n)\n",
    "    \"\"\"\n",
    "    \n",
    "    end =  n * int(arr.shape[1]/n)\n",
    "    return np.mean(arr[:,:end,:].reshape(arr.shape[0], -1, n, arr.shape[2]), 2)"
   ]
  },
  {
   "cell_type": "code",
   "execution_count": null,
   "metadata": {},
   "outputs": [],
   "source": [
    "Env.set_randState(d_pre, rho_whole, un, ul, uy, ua, ud, ur, depot)"
   ]
  },
  {
   "cell_type": "code",
   "execution_count": 109,
   "metadata": {},
   "outputs": [
    {
     "data": {
      "text/plain": [
       "(np.float64(0.048958333333333326), np.float64(0.04895833333333334))"
      ]
     },
     "execution_count": 109,
     "metadata": {},
     "output_type": "execute_result"
    },
    {
     "data": {
      "image/png": "[encoded data removed]",
      "text/plain": [
       "<Figure size 640x480 with 1 Axes>"
      ]
     },
     "metadata": {},
     "output_type": "display_data"
    }
   ],
   "source": [
    "arr = Env.state_rho\n",
    "n = 9\n",
    "end =  n * int(arr.shape[1]/n)\n",
    "\n",
    "output1 = np.zeros((Env.state_rho.shape))\n",
    "\n",
    "output2 = downsample_average_state_rho(arr,n)\n",
    "\n",
    "for i in range(output2.shape[1]):\n",
    "    output1[:,i*n:(i+1)*n,:] = output2[:,[i],:]\n",
    "\n",
    "x = np.arange(end)\n",
    "\n",
    "# Enable LaTeX rendering\n",
    "plt.rcParams['text.usetex'] = True\n",
    "\n",
    "line = 0\n",
    "platform = 0\n",
    "rho_down_vec = output1[line,:end,platform]\n",
    "plt.step(x,rho_down_vec)\n",
    "plt.step(x,Env.state_rho[line,:end, platform])\n",
    "\n",
    "output1[line,:end,platform].mean(), Env.state_rho[line,:end, platform].mean()"
   ]
  },
  {
   "cell_type": "code",
   "execution_count": 159,
   "metadata": {},
   "outputs": [
    {
     "name": "stdout",
     "output_type": "stream",
     "text": [
      "0.605906081612451 0.605906081612451\n"
     ]
    },
    {
     "data": {
      "text/plain": [
       "<matplotlib.patches.StepPatch at 0x245ca9abaa0>"
      ]
     },
     "execution_count": 159,
     "metadata": {},
     "output_type": "execute_result"
    },
    {
     "data": {
      "image/png": "[encoded data removed]",
      "text/plain": [
       "<Figure size 640x480 with 1 Axes>"
      ]
     },
     "metadata": {},
     "output_type": "display_data"
    }
   ],
   "source": [
    "p_original = np.random.uniform(0.2, 1, 16)\n",
    "p_reduced = np.zeros(p_original.shape)\n",
    "\n",
    "for i in range(4):\n",
    "    p_reduced[i*4:(i+1)*4] = np.mean(p_original[i*4:(i+1)*4])\n",
    "print(p_original.mean(), p_reduced.mean())\n",
    "\n",
    "plt.stairs(p_original)\n",
    "plt.stairs(p_reduced)"
   ]
  },
  {
   "cell_type": "code",
   "execution_count": 161,
   "metadata": {},
   "outputs": [
    {
     "data": {
      "text/plain": [
       "[(0, 0.46368655697815686),\n",
       " (1, 0.46368655697815686),\n",
       " (2, 0.46368655697815686),\n",
       " (3, 0.46368655697815686),\n",
       " (4, 0.552316526541135),\n",
       " (5, 0.552316526541135),\n",
       " (6, 0.552316526541135),\n",
       " (7, 0.552316526541135),\n",
       " (8, 0.8354481488586357),\n",
       " (9, 0.8354481488586357),\n",
       " (10, 0.8354481488586357),\n",
       " (11, 0.8354481488586357),\n",
       " (12, 0.5721730940718763),\n",
       " (13, 0.5721730940718763),\n",
       " (14, 0.5721730940718763),\n",
       " (15, 0.5721730940718763)]"
      ]
     },
     "execution_count": 161,
     "metadata": {},
     "output_type": "execute_result"
    }
   ],
   "source": [
    "tmp_list = []\n",
    "for i in range(16):\n",
    "    # tmp_list.append(tuple([x[i].item(), p_original[i].item()]))\n",
    "    tmp_list.append(tuple([x[i].item(), p_reduced[i].item()]))\n",
    "tmp_list"
   ]
  },
  {
   "cell_type": "code",
   "execution_count": 90,
   "metadata": {},
   "outputs": [
    {
     "data": {
      "image/png": "[encoded data removed]",
      "text/plain": [
       "<Figure size 640x480 with 1 Axes>"
      ]
     },
     "metadata": {},
     "output_type": "display_data"
    }
   ],
   "source": [
    "y = [1, 2, 3, 2]\n",
    "x = [0, 1, 2, 3]\n",
    "\n",
    "plt.step(x, y, where='post')  # 'post' or 'pre' or 'mid' depending on desired alignment\n",
    "plt.show()"
   ]
  },
  {
   "cell_type": "code",
   "execution_count": 57,
   "metadata": {},
   "outputs": [
    {
     "data": {
      "text/plain": [
       "[<matplotlib.lines.Line2D at 0x245c61879e0>]"
      ]
     },
     "execution_count": 57,
     "metadata": {},
     "output_type": "execute_result"
    },
    {
     "data": {
      "image/png": "[encoded data removed]",
      "text/plain": [
       "<Figure size 640x480 with 1 Axes>"
      ]
     },
     "metadata": {},
     "output_type": "display_data"
    }
   ],
   "source": [
    "Env.set_randState(d_pre, rho_whole, un, ul, uy, ua, ud, ur, depot)\n",
    "line = 0\n",
    "platform = 0\n",
    "rho_vec = Env.state_rho[line,:,platform]\n",
    "plt.plot(rho_vec)\n",
    "\n",
    "rho_down = downsample_average_state_rho(Env.state_rho, 9)\n",
    "rho_down_vec = rho_down[line,:, platform]\n",
    "plt.plot(rho_down_vec)\n"
   ]
  },
  {
   "cell_type": "code",
   "execution_count": 4,
   "metadata": {},
   "outputs": [],
   "source": [
    "tmp = np.load(\"data_optimal_original/data_original_milp_cl_N40_000.npy\", allow_pickle=True)"
   ]
  },
  {
   "cell_type": "code",
   "execution_count": 2,
   "metadata": {},
   "outputs": [],
   "source": [
    "opt_data = 'milp_cl'\n",
    "idx=0\n",
    "network_info_path = 'training_data_reduced//' + opt_data + '_N%d_%.3d_' %(N,idx) + 'info.npy'\n",
    "tmp = np.load(network_info_path, allow_pickle=True)"
   ]
  },
  {
   "cell_type": "code",
   "execution_count": 7,
   "metadata": {},
   "outputs": [],
   "source": [
    "tmp = tmp.item()"
   ]
  },
  {
   "cell_type": "code",
   "execution_count": 10,
   "metadata": {},
   "outputs": [
    {
     "data": {
      "text/plain": [
       "'milp_cl'"
      ]
     },
     "execution_count": 10,
     "metadata": {},
     "output_type": "execute_result"
    }
   ],
   "source": [
    "tmp['opt']"
   ]
  },
  {
   "cell_type": "code",
   "execution_count": 11,
   "metadata": {},
   "outputs": [
    {
     "data": {
      "text/plain": [
       "(93,)"
      ]
     },
     "execution_count": 11,
     "metadata": {},
     "output_type": "execute_result"
    }
   ],
   "source": [
    "Env.state_n.shape\n",
    "state_n = np.concatenate((Env.state_n[0,0:2*num_station[0]-1], Env.state_n[1,0:2*num_station[1]-1], Env.state_n[2,0:2*num_station[2]-1]))\n",
    "state_n.shape"
   ]
  },
  {
   "cell_type": "code",
   "execution_count": 12,
   "metadata": {},
   "outputs": [],
   "source": [
    "from rail_data_preprocess_reduced import get_preprocessed_data_reduced\n",
    "\n",
    "opt_preprocess = 'original'\n",
    "opt_data = 'milp_ol'\n",
    "N = 40\n",
    "idx = 999\n",
    "\n",
    "str_data = 'data_optimal//data_%s_%s_N%d_%.3d.npy' %(opt_preprocess, opt_data, N, idx)\n",
    "array_data = np.load(str_data, allow_pickle=True)\n",
    "dict_state_list = array_data[0]\n",
    "dict_output_list = array_data[1]\n",
    "\n",
    "state_n = dict_state_list['state_n']\n",
    "state_depot = dict_state_list['state_depot']\n",
    "idx_cntr = dict_state_list['idx_cntr']\n",
    "state_l_0= dict_state_list['state_l_0']\n",
    "state_l_1= dict_state_list['state_l_1']\n",
    "state_l_2= dict_state_list['state_l_2']\n",
    "\n",
    "if opt_preprocess == 'reduced':\n",
    "    state_rho_down= dict_state_list['state_rho_down']\n",
    "    state_rho_mean= dict_state_list['state_rho_mean']\n",
    "    n_datasets = 35\n",
    "elif opt_preprocess == 'original':\n",
    "    state_rho = dict_state_list['state_rho']\n",
    "    n_datasets = 10\n",
    "    \n",
    "stacked_states = np.concatenate((state_n, state_depot, idx_cntr, state_rho, state_l_0, state_l_1, state_l_2), axis=1)\n",
    "        "
   ]
  },
  {
   "cell_type": "code",
   "execution_count": 13,
   "metadata": {},
   "outputs": [],
   "source": [
    "state_min = np.min(stacked_states, axis=0)\n",
    "state_max = np.max(stacked_states, axis=0)\n",
    "stacked_states = norm_state(stacked_states, state_min, state_max)\n",
    "\n",
    "input_size = stacked_states.shape[1]"
   ]
  },
  {
   "cell_type": "code",
   "execution_count": 38,
   "metadata": {},
   "outputs": [],
   "source": [
    "from rail_fun import downsample_average_state_rho\n",
    "\n",
    "tmp = downsample_average_state_rho(Env.state_rho, 9)"
   ]
  },
  {
   "cell_type": "code",
   "execution_count": 39,
   "metadata": {},
   "outputs": [
    {
     "data": {
      "text/plain": [
       "((3, 41, 38), (3, 4, 38))"
      ]
     },
     "execution_count": 39,
     "metadata": {},
     "output_type": "execute_result"
    }
   ],
   "source": [
    "Env.state_rho.shape, tmp.shape"
   ]
  },
  {
   "cell_type": "code",
   "execution_count": 40,
   "metadata": {},
   "outputs": [
    {
     "data": {
      "text/plain": [
       "(array([0.04166667, 0.07083333, 0.25      , 0.31666667, 0.40833333,\n",
       "        0.4875    , 0.58333333, 0.8125    , 0.90416667, 0.85      ,\n",
       "        0.74583333, 0.        , 0.5       , 0.37083333, 0.74583333,\n",
       "        0.58333333, 0.52083333, 0.45      , 0.3875    , 0.35833333,\n",
       "        0.3       , 0.0375    , 0.02916667, 0.        , 0.        ,\n",
       "        0.        , 0.        , 0.        , 0.        , 0.        ,\n",
       "        0.        , 0.        , 0.        , 0.        , 0.        ,\n",
       "        0.        , 0.        , 0.        ]),\n",
       " array([0.02777778, 0.04490741, 0.28472222, 0.38009259, 0.44027778,\n",
       "        0.51759259, 0.60648148, 0.98564815, 0.77222222, 0.84166667,\n",
       "        0.8125    , 0.        , 0.51388889, 0.46342593, 0.66712963,\n",
       "        0.68657407, 0.55185185, 0.45138889, 0.36759259, 0.37546296,\n",
       "        0.28287037, 0.05694444, 0.02777778, 0.        , 0.        ,\n",
       "        0.        , 0.        , 0.        , 0.        , 0.        ,\n",
       "        0.        , 0.        , 0.        , 0.        , 0.        ,\n",
       "        0.        , 0.        , 0.        ]))"
      ]
     },
     "execution_count": 40,
     "metadata": {},
     "output_type": "execute_result"
    }
   ],
   "source": [
    "Env.state_rho[0,1,:], tmp[0,1,:]"
   ]
  },
  {
   "cell_type": "code",
   "execution_count": 5,
   "metadata": {},
   "outputs": [
    {
     "data": {
      "text/plain": [
       "(260, 38)"
      ]
     },
     "execution_count": 5,
     "metadata": {},
     "output_type": "execute_result"
    }
   ],
   "source": [
    "avg_rho = np.mean(rho_whole[0], axis=2)\n",
    "avg_rho.shape"
   ]
  },
  {
   "cell_type": "code",
   "execution_count": null,
   "metadata": {},
   "outputs": [],
   "source": [
    "from rail_rl_env import RailNet, gurobi_milp, gurobi_minlp, mdl_feasible, d_pre, rho_whole, un, ul, uy, ua, ud, ur, depot, num_station\n",
    "from rail_fun import downsample_average_state_rho, build_list_action\n",
    "\n",
    "N_control = N-2\n",
    "N = 40\n",
    "\n",
    "dict_state_list = {\n",
    "    'state_n' : [],\n",
    "    'state_depot' : [],\n",
    "    'idx_cntr' : [],\n",
    "    'state_l_0' : [],\n",
    "    'state_l_1' : [],\n",
    "    'state_l_2' : [],\n",
    "    'state_rho_down' : [],\n",
    "    'state_rho_mean' : []\n",
    "}\n",
    "\n",
    "dict_output_list = {\n",
    "    'delta': [],\n",
    "    'list_actions': [],\n",
    "    'mdl_Obj': [],\n",
    "    'mdl_mipgap': [],\n",
    "    'mdl_runtime': [],\n",
    "    'mdl_status': []\n",
    "}\n",
    "\n",
    "def get_State(Env):\n",
    "    \n",
    "    state_n = np.concatenate((Env.state_n[0,0:2*num_station[0]-1], Env.state_n[1,0:2*num_station[1]-1], Env.state_n[2,0:2*num_station[2]-1]))\n",
    "    state_depot = Env.state_depot\n",
    "\n",
    "    d = {}\n",
    "    # 3 is the number of time delays\n",
    "    for i in range(3):\n",
    "        d['state_l_' + str(i)] = np.concatenate((Env.state_l[0,i,0:2*num_station[0]-1], Env.state_l[1,i,0:2*num_station[1]-1], Env.state_l[2,i,0:2*num_station[2]-1]))\n",
    "    state_l_0 = d['state_l_0']\n",
    "    state_l_1 = d['state_l_1']\n",
    "    state_l_2 = d['state_l_2']\n",
    "\n",
    "    state_rho_down = downsample_average_state_rho(Env.state_rho, 9) # 4 samples of the passenger flow\n",
    "\n",
    "    d = {}\n",
    "    # 4 is the length of the downsampled state_rho\n",
    "    for i in range(4):\n",
    "        d[str(i)] = np.concatenate((state_rho_down[0,i,0:2*num_station[0]-1], state_rho_down[1,i,0:2*num_station[1]-1], state_rho_down[2,i,0:2*num_station[2]-1]))\n",
    "    state_rho_down = np.concatenate((d['0'], d['1'], d['2'], d['3']))\n",
    "\n",
    "    state_rho_mean = np.mean(Env.state_rho, 1)\n",
    "    state_rho_mean = np.concatenate((state_rho_mean[0,0:2*num_station[0]-1], state_rho_mean[1,0:2*num_station[1]-1], state_rho_mean[2,0:2*num_station[2]-1]))\n",
    "\n",
    "    idx_cntr = np.array([Env.idx_cntr])\n",
    "    \n",
    "    dict_state = {\n",
    "    'state_n' : state_n,\n",
    "    'state_depot' : state_depot,\n",
    "    'idx_cntr' : idx_cntr,\n",
    "    'state_l_0' : state_l_0,\n",
    "    'state_l_1' : state_l_1,\n",
    "    'state_l_2' : state_l_2,\n",
    "    'state_rho_down' : state_rho_down,\n",
    "    'state_rho_mean' : state_rho_mean\n",
    "    }\n",
    "    return dict_state\n",
    "\n",
    "def store_State(dict, dict_state):\n",
    "    for i in dict_state.keys():\n",
    "        dict[i].append(dict_state[i])\n",
    "        \n",
    "def store_Output(dict, delta, mdl):\n",
    "    dict['delta'].append(delta)\n",
    "    dict['list_actions'].append(build_list_action(np.round(delta,2), N_control))\n",
    "    dict['mdl_Obj'].append(np.array(mdl.ObjVal).reshape(1,))\n",
    "    dict['mdl_mipgap'].append(np.array(mdl.mipgap).reshape(1,))\n",
    "    dict['mdl_runtime'].append(np.array(mdl.runtime).reshape(1,))\n",
    "    dict['mdl_status'].append(np.array(mdl.status).reshape(1,))    "
   ]
  },
  {
   "cell_type": "code",
   "execution_count": 6,
   "metadata": {},
   "outputs": [
    {
     "data": {
      "text/plain": [
       "True"
      ]
     },
     "execution_count": 6,
     "metadata": {},
     "output_type": "execute_result"
    }
   ],
   "source": [
    "import numpy as np\n",
    "a = np.zeros((3,1))\n",
    "a[0] = True\n",
    "\n",
    "a=0; b=0; c=0; d=1\n",
    "tmp = (a or b)==True or (c or d)==True\n",
    "tmp"
   ]
  },
  {
   "cell_type": "code",
   "execution_count": 3,
   "metadata": {},
   "outputs": [],
   "source": [
    "# 0-10 - peak hours morning\n",
    "# 11 empty\n",
    "# 12-22 - peak hours evening\n"
   ]
  },
  {
   "cell_type": "code",
   "execution_count": 4,
   "metadata": {},
   "outputs": [
    {
     "data": {
      "text/plain": [
       "[<matplotlib.lines.Line2D at 0x135900eee70>]"
      ]
     },
     "execution_count": 4,
     "metadata": {},
     "output_type": "execute_result"
    },
    {
     "data": {
      "image/png": "[encoded data removed]",
      "text/plain": [
       "<Figure size 640x480 with 1 Axes>"
      ]
     },
     "metadata": {},
     "output_type": "display_data"
    }
   ],
   "source": [
    "plt.plot(avg_rho[:,17])"
   ]
  },
  {
   "cell_type": "code",
   "execution_count": 3,
   "metadata": {},
   "outputs": [],
   "source": [
    "import numpy as np\n",
    "N=40\n",
    "opt = 'milp_ol'\n",
    "array_data = np.load('data_optimal_reduced//data_reduced_%s_N%.2d_%.3d.npy' %(opt, N, 0), allow_pickle=True)\n",
    "for job_idx in range(1,25):\n",
    "    tmp_vector = np.load('data_optimal_reduced//data_reduced_%s_N%.2d_%.3d.npy' %(opt,N, job_idx), allow_pickle=True)\n",
    "    array_data = np.concatenate((array_data, tmp_vector))\n",
    "# minlp_info_compressed = minlp_info_compressed[:120000, :]\n",
    "np.save('data_optimal_reduced//data_reduced_%s_N%.2d_condensed.npy' %(opt,N), array_data, allow_pickle=True)"
   ]
  },
  {
   "cell_type": "code",
   "execution_count": 3,
   "metadata": {},
   "outputs": [],
   "source": [
    "import numpy as np\n",
    "\n",
    "opt_data = 'milp_ol'\n",
    "opt_label = 'classification'\n",
    "\n",
    "str_data = 'data_optimal_reduced//data_reduced_%s_N%d_%.3d.npy' %(opt_data, N, 0) # for testing\n",
    "array_data = np.load(str_data, allow_pickle=True)\n",
    "dict_state_list = array_data[0]\n",
    "dict_output_list = array_data[1]\n",
    "\n",
    "state_n = dict_state_list['state_n']\n",
    "state_depot = dict_state_list['state_depot']\n",
    "idx_cntr = dict_state_list['idx_cntr']\n",
    "state_rho_down= dict_state_list['state_rho_down']\n",
    "state_rho_mean= dict_state_list['state_rho_mean']\n",
    "state_l_0= dict_state_list['state_l_0']\n",
    "state_l_1= dict_state_list['state_l_1']\n",
    "state_l_2= dict_state_list['state_l_2']\n",
    "if opt_label=='classification':\n",
    "        stacked_list_actions = dict_output_list['list_actions']\n",
    "elif opt_label=='regression':\n",
    "        stacked_list_actions = dict_output_list['delta']\n",
    "for i in range(1,25):\n",
    "    str_data = 'data_optimal_reduced//data_reduced_%s_N%d_%.3d.npy' %(opt_data, N, i) # for testing\n",
    "    array_data = np.load(str_data, allow_pickle=True)\n",
    "    dict_state_list = array_data[0]\n",
    "    dict_output_list = array_data[1]\n",
    "    \n",
    "    state_n = np.concatenate((state_n, dict_state_list['state_n']))\n",
    "    state_depot = np.concatenate((state_depot, dict_state_list['state_depot']))\n",
    "    idx_cntr = np.concatenate((idx_cntr, dict_state_list['idx_cntr']))\n",
    "    state_rho_down= np.concatenate((state_rho_down, dict_state_list['state_rho_down']))\n",
    "    state_rho_mean= np.concatenate((state_rho_mean, dict_state_list['state_rho_mean']))\n",
    "    state_l_0= np.concatenate((state_l_0, dict_state_list['state_l_0']))\n",
    "    state_l_1= np.concatenate((state_l_1, dict_state_list['state_l_1']))\n",
    "    state_l_2= np.concatenate((state_l_2, dict_state_list['state_l_2']))\n",
    "    \n",
    "    if opt_label=='classification':\n",
    "        tmp = dict_output_list['list_actions']\n",
    "    elif opt_label=='regression':\n",
    "        tmp = dict_output_list['delta']    \n",
    "    stacked_list_actions = np.concatenate((stacked_list_actions, tmp))"
   ]
  },
  {
   "cell_type": "code",
   "execution_count": 9,
   "metadata": {},
   "outputs": [
    {
     "data": {
      "text/plain": [
       "((4827, 93), (4827, 93), (109364, 93))"
      ]
     },
     "execution_count": 9,
     "metadata": {},
     "output_type": "execute_result"
    }
   ],
   "source": [
    "state_rho_mean.shape, state_l_0.shape, state_n.shape"
   ]
  },
  {
   "cell_type": "code",
   "execution_count": 6,
   "metadata": {},
   "outputs": [
    {
     "ename": "ValueError",
     "evalue": "all the input array dimensions except for the concatenation axis must match exactly, but along dimension 0, the array at index 0 has size 109364 and the array at index 3 has size 4827",
     "output_type": "error",
     "traceback": [
      "\u001b[1;31m---------------------------------------------------------------------------\u001b[0m",
      "\u001b[1;31mValueError\u001b[0m                                Traceback (most recent call last)",
      "Cell \u001b[1;32mIn[6], line 3\u001b[0m\n\u001b[0;32m      1\u001b[0m state_rho_mean\u001b[38;5;241m=\u001b[39m dict_state_list[\u001b[38;5;124m'\u001b[39m\u001b[38;5;124mstate_rho_mean\u001b[39m\u001b[38;5;124m'\u001b[39m]\n\u001b[0;32m      2\u001b[0m state_l_0\u001b[38;5;241m=\u001b[39m dict_state_list[\u001b[38;5;124m'\u001b[39m\u001b[38;5;124mstate_l_0\u001b[39m\u001b[38;5;124m'\u001b[39m]\n\u001b[1;32m----> 3\u001b[0m stacked_states \u001b[38;5;241m=\u001b[39m \u001b[43mnp\u001b[49m\u001b[38;5;241;43m.\u001b[39;49m\u001b[43mconcatenate\u001b[49m\u001b[43m(\u001b[49m\u001b[43m(\u001b[49m\u001b[43mstate_n\u001b[49m\u001b[43m,\u001b[49m\u001b[43m \u001b[49m\u001b[43mstate_depot\u001b[49m\u001b[43m,\u001b[49m\u001b[43m \u001b[49m\u001b[43midx_cntr\u001b[49m\u001b[43m,\u001b[49m\u001b[43m \u001b[49m\u001b[43mstate_rho_mean\u001b[49m\u001b[43m,\u001b[49m\u001b[43m \u001b[49m\u001b[43mstate_l_0\u001b[49m\u001b[43m)\u001b[49m\u001b[43m,\u001b[49m\u001b[43m \u001b[49m\u001b[43maxis\u001b[49m\u001b[38;5;241;43m=\u001b[39;49m\u001b[38;5;241;43m1\u001b[39;49m\u001b[43m)\u001b[49m\n",
      "\u001b[1;31mValueError\u001b[0m: all the input array dimensions except for the concatenation axis must match exactly, but along dimension 0, the array at index 0 has size 109364 and the array at index 3 has size 4827"
     ]
    }
   ],
   "source": [
    "state_rho_mean= dict_state_list['state_rho_mean']\n",
    "state_l_0= dict_state_list['state_l_0']\n",
    "stacked_states = np.concatenate((state_n, state_depot, idx_cntr, state_rho_mean, state_l_0), axis=1)"
   ]
  },
  {
   "cell_type": "code",
   "execution_count": 2,
   "metadata": {},
   "outputs": [
    {
     "ename": "NameError",
     "evalue": "name 'np' is not defined",
     "output_type": "error",
     "traceback": [
      "\u001b[1;31m---------------------------------------------------------------------------\u001b[0m",
      "\u001b[1;31mNameError\u001b[0m                                 Traceback (most recent call last)",
      "Cell \u001b[1;32mIn[2], line 1\u001b[0m\n\u001b[1;32m----> 1\u001b[0m array_data \u001b[38;5;241m=\u001b[39m \u001b[43mnp\u001b[49m\u001b[38;5;241m.\u001b[39mload(\u001b[38;5;124m'\u001b[39m\u001b[38;5;124mdata_optimal_reduced//data_reduced_\u001b[39m\u001b[38;5;132;01m%s\u001b[39;00m\u001b[38;5;124m_N\u001b[39m\u001b[38;5;132;01m%.2d\u001b[39;00m\u001b[38;5;124m_\u001b[39m\u001b[38;5;132;01m%.3d\u001b[39;00m\u001b[38;5;124m.npy\u001b[39m\u001b[38;5;124m'\u001b[39m \u001b[38;5;241m%\u001b[39m(opt, N, \u001b[38;5;241m0\u001b[39m), allow_pickle\u001b[38;5;241m=\u001b[39m\u001b[38;5;28;01mTrue\u001b[39;00m)\n\u001b[0;32m      2\u001b[0m dict_state_list \u001b[38;5;241m=\u001b[39m array_data[\u001b[38;5;241m0\u001b[39m]\n\u001b[0;32m      3\u001b[0m dict_output_list \u001b[38;5;241m=\u001b[39m array_data[\u001b[38;5;241m1\u001b[39m]\n",
      "\u001b[1;31mNameError\u001b[0m: name 'np' is not defined"
     ]
    }
   ],
   "source": [
    "array_data = np.load('data_optimal_reduced//data_reduced_%s_N%.2d_%.3d.npy' %(opt, N, 0), allow_pickle=True)\n",
    "dict_state_list = array_data[0]\n",
    "dict_output_list = array_data[1]\n",
    "\n",
    "dict_state_list"
   ]
  },
  {
   "cell_type": "code",
   "execution_count": 14,
   "metadata": {},
   "outputs": [],
   "source": [
    "opt = 'milp_cl'\n",
    "array_data = np.load('data_optimal//data_%s_N%.2d_999.npy' %(opt, N), allow_pickle=True)"
   ]
  },
  {
   "cell_type": "code",
   "execution_count": 1,
   "metadata": {},
   "outputs": [
    {
     "name": "stdout",
     "output_type": "stream",
     "text": [
      "num_actions = 269\n",
      "number of training points (before reduction): 313528\n",
      "number of validation points (before reduction): 39191\n",
      "number of test points (before reduction): 39190\n",
      "number of training points (after reduction): 311344\n",
      "number of validation points (after reduction): 38912\n",
      "number of test points (after reduction): 38908\n",
      "cntr_outlier_train: 2184\t cntr_outlier_val: 279 cntr_outlier_test: 282\n",
      "data-processing finished\n"
     ]
    },
    {
     "data": {
      "text/plain": [
       "torch.Size([38912, 283])"
      ]
     },
     "execution_count": 1,
     "metadata": {},
     "output_type": "execute_result"
    }
   ],
   "source": [
    "opt_data = 'milp_ol'\n",
    "threshold_counts = 50\n",
    "N = 40\n",
    "opt_state=1\n",
    "opt_label='classification'\n",
    "testing=True\n",
    "\n",
    "from rail_data_preprocess_reduced import get_preprocessed_data_reduced\n",
    "\n",
    "dict_data = get_preprocessed_data_reduced(opt_data, threshold_counts, N, opt_state, opt_label, testing)\n",
    "\n",
    "stacked_states_val_tensor = dict_data['stacked_states_val_tensor']\n",
    "stacked_states_val_tensor.shape"
   ]
  },
  {
   "cell_type": "code",
   "execution_count": 2,
   "metadata": {},
   "outputs": [],
   "source": [
    "N_control = dict_data['N_control']\n",
    "stacked_actions_reduced_val = dict_data['stacked_actions_reduced_val']\n",
    "list_masks = dict_data['list_masks']\n",
    "stacked_states_val_tensor = dict_data['stacked_states_val_tensor']\n",
    "input_size = dict_data['input_size']\n",
    "total_action_set = dict_data['total_action_set']"
   ]
  },
  {
   "cell_type": "code",
   "execution_count": 10,
   "metadata": {},
   "outputs": [],
   "source": [
    "batch_size = 32\n",
    "device='cpu'\n",
    "import torch\n",
    "import numpy as np\n",
    "\n",
    "stacked_actions_reduced_train = dict_data['stacked_actions_reduced_train']\n",
    "stacked_actions_reduced_val = dict_data['stacked_actions_reduced_val']\n",
    "stacked_states_train_tensor = dict_data['stacked_states_train_tensor']\n",
    "stacked_states_val_tensor = dict_data['stacked_states_val_tensor']\n",
    "batch = np.random.choice(stacked_states_train_tensor.shape[0], batch_size, replace=False)\n",
    "\n",
    "from rail_training_reduced import build_pad_batch_states_tensor\n",
    "\n",
    "b = torch.zeros(batch_size, N_control-1, input_size)\n",
    "state_batch_train = build_pad_batch_states_tensor(stacked_states_train_tensor[batch].unsqueeze(dim=1), batch_size, input_size, N_control).to(device)"
   ]
  },
  {
   "cell_type": "code",
   "execution_count": 9,
   "metadata": {},
   "outputs": [
    {
     "data": {
      "text/plain": [
       "(torch.Size([32, 748]), torch.Size([32, 37, 748]))"
      ]
     },
     "execution_count": 9,
     "metadata": {},
     "output_type": "execute_result"
    }
   ],
   "source": [
    "b = torch.zeros(batch_size, N_control-1, input_size)\n",
    "stacked_states_train_tensor[batch].shape, b.shape"
   ]
  },
  {
   "cell_type": "code",
   "execution_count": 2,
   "metadata": {},
   "outputs": [
    {
     "name": "stdout",
     "output_type": "stream",
     "text": [
      "23\n"
     ]
    }
   ],
   "source": [
    "a=23.258\n",
    "print('%.2d' %a)"
   ]
  },
  {
   "cell_type": "code",
   "execution_count": 28,
   "metadata": {},
   "outputs": [
    {
     "data": {
      "text/plain": [
       "41088"
      ]
     },
     "execution_count": 28,
     "metadata": {},
     "output_type": "execute_result"
    }
   ],
   "source": [
    "m=238\n",
    "n=32\n",
    "\n",
    "4*(m*n+n**2+n) + n*200"
   ]
  },
  {
   "cell_type": "code",
   "execution_count": 9,
   "metadata": {},
   "outputs": [
    {
     "name": "stdout",
     "output_type": "stream",
     "text": [
      "num_actions = 285\n",
      "number of training points (before reduction): 264562\n",
      "number of validation points (before reduction): 33070\n",
      "number of test points (before reduction): 33070\n",
      "number of training points (after reduction): 252207\n",
      "number of validation points (after reduction): 31581\n",
      "number of test points (after reduction): 31756\n",
      "cntr_outlier_train: 12355\t cntr_outlier_val: 1489 cntr_outlier_test: 1314\n",
      "data-processing finished\n"
     ]
    }
   ],
   "source": [
    "hidden_size = 32\n",
    "dropout = 0.5\n",
    "num_layers=1\n",
    "lr=1e-4\n",
    "batch_size=32\n",
    "\n",
    "opt_data='milp_cl'\n",
    "\n",
    "dict_data = get_preprocessed_data_reduced(opt_data, threshold_counts, N, opt_state, opt_label,testing)\n",
    "\n",
    "N_control = dict_data['N_control']\n",
    "stacked_actions_reduced_val = dict_data['stacked_actions_reduced_val']\n",
    "list_masks = dict_data['list_masks']\n",
    "stacked_states_val_tensor = dict_data['stacked_states_val_tensor']\n",
    "input_size = dict_data['input_size']\n",
    "total_action_set = dict_data['total_action_set']\n",
    "\n",
    "num_actions = total_action_set.shape[0]"
   ]
  },
  {
   "cell_type": "code",
   "execution_count": null,
   "metadata": {},
   "outputs": [],
   "source": [
    "from rail_training_reduced import Network, Network1, Network2\n",
    "network = Network1(input_size, hidden_size, num_layers, lr, num_actions, batch_size, dropout)"
   ]
  },
  {
   "cell_type": "code",
   "execution_count": 6,
   "metadata": {},
   "outputs": [],
   "source": [
    "import torch\n",
    "\n",
    "input = torch.randn(batch_size, N, input_size)\n",
    "h0 = torch.randn(num_layers, batch_size, hidden_size)\n",
    "c0 = torch.randn(num_layers, batch_size, hidden_size)\n",
    "\n",
    "network_out = network(input,h0,c0)"
   ]
  },
  {
   "cell_type": "code",
   "execution_count": 16,
   "metadata": {},
   "outputs": [
    {
     "data": {
      "text/plain": [
       "120320"
      ]
     },
     "execution_count": 16,
     "metadata": {},
     "output_type": "execute_result"
    }
   ],
   "source": [
    "32*40*94"
   ]
  },
  {
   "cell_type": "code",
   "execution_count": 7,
   "metadata": {},
   "outputs": [
    {
     "data": {
      "text/plain": [
       "torch.Size([32, 40, 285])"
      ]
     },
     "execution_count": 7,
     "metadata": {},
     "output_type": "execute_result"
    }
   ],
   "source": [
    "network_out.shape"
   ]
  },
  {
   "cell_type": "code",
   "execution_count": 10,
   "metadata": {},
   "outputs": [],
   "source": [
    "import numpy as np\n",
    "\n",
    "tmp = np.load('training_data_reduced/milp_cl_N40_hyperparm_set.npy', allow_pickle=True).item()"
   ]
  },
  {
   "cell_type": "code",
   "execution_count": 12,
   "metadata": {},
   "outputs": [
    {
     "data": {
      "text/plain": [
       "2"
      ]
     },
     "execution_count": 12,
     "metadata": {},
     "output_type": "execute_result"
    }
   ],
   "source": [
    "idx=1\n",
    "tmp[str(idx)][-1]"
   ]
  },
  {
   "cell_type": "code",
   "execution_count": 1,
   "metadata": {},
   "outputs": [
    {
     "name": "stdout",
     "output_type": "stream",
     "text": [
      "num_actions = 285\n"
     ]
    }
   ],
   "source": [
    "from rail_fun import get_State, norm_state\n",
    "from rail_rl_env import RailNet, d_pre, rho_whole, un, ul, uy, ua, ud, ur, depot\n",
    "from rail_data_preprocess_reduced import get_dataset_min_max\n",
    "import numpy as np\n",
    "\n",
    "N = 40\n",
    "idx = 4\n",
    "opt_data = 'milp_cl'\n",
    "threshold_counts = 50\n",
    "opt_state=1\n",
    "opt_label='classification'\n",
    "testing=True\n",
    "\n",
    "tmp = np.load('training_data_reduced/milp_cl_N40_hyperparm_set.npy', allow_pickle=True).item()\n",
    "opt_state = tmp[str(idx)][-1]\n",
    "    \n",
    "dict_data = get_dataset_min_max(opt_data, threshold_counts, N, testing)\n",
    "\n",
    "N_control = dict_data['N_control']\n",
    "list_masks = dict_data['list_masks']\n",
    "total_action_set = dict_data['total_action_set']\n",
    "state_min = dict_data['state_min_%d' %opt_state]\n",
    "state_max = dict_data['state_max_%d' %opt_state]\n",
    "input_size = dict_data['input_size_%d' %opt_state]"
   ]
  },
  {
   "cell_type": "code",
   "execution_count": 2,
   "metadata": {},
   "outputs": [],
   "source": [
    "import torch\n",
    "from rail_fun import get_state_learning\n",
    "\n",
    "N = 40\n",
    "Env = RailNet(N)\n",
    "Env.set_randState(d_pre, rho_whole, un, ul, uy, ua, ud, ur, depot)\n",
    "state_learning = get_state_learning(Env, opt_state, state_min, state_max, N_control)"
   ]
  },
  {
   "cell_type": "code",
   "execution_count": 3,
   "metadata": {},
   "outputs": [
    {
     "data": {
      "text/plain": [
       "torch.Size([1, 38, 283])"
      ]
     },
     "execution_count": 3,
     "metadata": {},
     "output_type": "execute_result"
    }
   ],
   "source": [
    "state_learning.shape"
   ]
  },
  {
   "cell_type": "code",
   "execution_count": null,
   "metadata": {},
   "outputs": [
    {
     "name": "stdout",
     "output_type": "stream",
     "text": [
      "date_time: 0209_2057\n",
      "N: 40 \t mipgap: 0.0010 \t timelimit_gurobi: 30.00 \t n_threads: 8 \t early_term: 1\n",
      "opt_data: milp_cl\t threshold counts: 50\n",
      "timeout: 300.00,\t mipgap 0.0010\n",
      "num_actions = 285\n",
      "4 51 (748,) (748,)\n",
      "2 17 (469,) (469,)\n",
      "2 21 (469,) (469,)\n",
      "4 55 (748,) (748,)\n",
      "2 49 (469,) (469,)\n",
      "4 23 (748,) (748,)\n",
      "4 19 (748,) (748,)\n",
      "2 53 (469,) (469,)\n",
      "2 61 (469,) (469,)\n",
      "2 29 (469,) (469,)\n",
      "2 25 (469,) (469,)\n",
      "4 27 (748,) (748,)\n",
      "2 57 (469,) (469,)\n",
      "4 59 (748,) (748,)\n",
      "4 31 (748,) (748,)\n",
      "opt_data: milp_cl, opt_state 4, network_type: Network, hidden_size: 256, dropout: 0.50, seed: 4, idx: 31, n_threads: 8, LR_scheduler: 1\n",
      "lr: 0.00100, batch_size: 1, threshold_counts: 50, N: 40\n",
      "number of parameters:  791325\n"
     ]
    }
   ],
   "source": [
    "from rail_fun import cost_per_step, build_delta_vector, get_state_learning\n",
    "import numpy as np\n",
    "from rail_rl_env import RailNet, d_pre, rho_whole, un, ul, uy, ua, ud, ur, depot, mdl_feasible, action_dict, gurobi_minlp, gurobi_nlp_presolve, gurobi_lp_presolve, gurobi_milp\n",
    "import time\n",
    "from rail_data_preprocess_reduced import get_dataset_min_max\n",
    "from rail_training_reduced import Network, Network_CE, Network_mask1, Network_mask2, Network_mask3\n",
    "import torch\n",
    "import sys\n",
    "import datetime\n",
    "\n",
    "x = datetime.datetime.now()\n",
    "date_str = '%.2d%.2d_%.2d%.2d' %(x.month, x.day, x.hour, x.minute)\n",
    "print('date_time: ' + date_str)\n",
    "\n",
    "start_loop = time.time()\n",
    "\n",
    "# added by Xiaoyu\n",
    "match_nlp = np.zeros(3, dtype=int)\n",
    "match_lp = np.zeros(3, dtype=int)\n",
    "match_constant = np.zeros(3, dtype=int)\n",
    "match_constant[0] = 21 # 4 x 21: time for the train to return the first station (from the original timetable)\n",
    "match_constant[1] = 27\n",
    "match_constant[2] = 23\n",
    "\n",
    "N = 40\n",
    "testing = True\n",
    "\n",
    "opt_label = 'classification' #(regression is not implemented yet)\n",
    "\n",
    "if testing == True:\n",
    "    import psutil\n",
    "    p = psutil.Process()\n",
    "    opt_data = 'milp_cl'\n",
    "    idx = 1\n",
    "    n_threads = 8\n",
    "    timeout = 30*60 #minutes\n",
    "    timelimit_gurobi = 30\n",
    "    timelimit_reference = 30 # sets the time for the longest milp (with warm-start)\n",
    "else:\n",
    "    opt_data = sys.argv[1]\n",
    "    n_threads = int(sys.argv[2])\n",
    "    timelimit_job = int(sys.argv[3]) #(in seconds)\n",
    "    idx = int(sys.argv[4])\n",
    "    timelimit_gurobi = 60 # (in seconds, for minlp and milp)\n",
    "    timeout = timelimit_job - 30*60\n",
    "    \n",
    "device='cpu'\n",
    "torch.set_num_threads(n_threads)\n",
    "\n",
    "num_layers=1\n",
    "lr=1e-3\n",
    "batch_size=1 #\n",
    "threshold_counts = 50\n",
    "\n",
    "mipgap = 1e-3\n",
    "log = 0\n",
    "early_term = 1\n",
    "\n",
    "print('N: %d \\t mipgap: %.4f \\t timelimit_gurobi: %.2f \\t n_threads: %d \\t early_term: %d' %(N, mipgap, timelimit_gurobi, n_threads, early_term))\n",
    "print('opt_data: ' + opt_data + '\\t threshold counts: %d' %threshold_counts)\n",
    "print('timeout: %.2f,\\t' %timeout, 'mipgap %.4f' %mipgap)\n",
    "    \n",
    "dict_data = get_dataset_min_max(opt_data, threshold_counts, N, testing)\n",
    "\n",
    "N_control = dict_data['N_control']\n",
    "list_masks = dict_data['list_masks']\n",
    "total_action_set = dict_data['total_action_set']\n",
    "\n",
    "action_dict_reduced = {}\n",
    "for i in total_action_set:\n",
    "    action_dict_reduced[str(i)] = action_dict[str(i)]\n",
    "\n",
    "num_actions = total_action_set.shape[0]\n",
    "seq_len=N_control\n",
    "\n",
    "seed = 4\n",
    "np.random.seed(seed)\n",
    "torch.manual_seed(seed)\n",
    "\n",
    "##################\n",
    "\n",
    "idx_best_networks = [51, 17, 21, 55, 49, 23, 19, 53, 61, 29, 25, 27, 57, 59, 31]\n",
    "num_networks = len(idx_best_networks)\n",
    "\n",
    "def build_network(network_type, input_size, hidden_size, num_layers, lr, num_actions, batch_size, dropout, list_masks=list_masks, device=device):\n",
    "    if network_type == 'Network':\n",
    "        network = Network(input_size, hidden_size, num_layers, lr, num_actions, batch_size, dropout)\n",
    "    elif network_type == 'Network_CE':\n",
    "        network = Network_CE(input_size, hidden_size, num_layers, lr, num_actions, batch_size, dropout)\n",
    "    elif network_type == 'Network_mask1':\n",
    "        network = Network_mask1(input_size, hidden_size, num_layers, lr, num_actions, batch_size, dropout, list_masks, device)\n",
    "    elif network_type == 'Network_mask2':\n",
    "        network = Network_mask2(input_size, hidden_size, num_layers, lr, num_actions, batch_size, dropout, list_masks, device)\n",
    "    elif network_type == 'Network_mask3':\n",
    "        network = Network_mask3(input_size, hidden_size, num_layers, lr, num_actions, batch_size, dropout, list_masks, device)\n",
    "    else:\n",
    "        raise KeyError('Network type has not been found.')\n",
    "    \n",
    "    return network\n",
    "\n",
    "if testing==True:\n",
    "    hyperpar_set = np.load('training_data_reduced/milp_cl_N40_hyperparm_set.npy', allow_pickle=True).item()\n",
    "else:\n",
    "    hyperpar_set = np.load('//scratch/cfoliveiradasi//railway_largescale//training_data_reduced//milp_cl_N40_hyperparm_set.npy', allow_pickle=True).item()\n",
    "\n",
    "model_list = []\n",
    "h0 = []\n",
    "c0 = []\n",
    "opt_state = []\n",
    "state_min = []\n",
    "state_max = []\n",
    "for idx in idx_best_networks:\n",
    "    \n",
    "    if testing==True:\n",
    "        network_info_path = 'training_data_reduced//' + opt_data + '_N%d_%.3d_' %(N,idx) + 'info.npy'\n",
    "        network_weight_path = 'training_data_reduced//' + opt_data + '_N%d_%.3d_' %(N,idx) + 'weight'\n",
    "    else:\n",
    "        network_info_path = '//scratch/cfoliveiradasi//railway_largescale//training_data_reduced//%s_N%.2d_%.3d_info.npy' %(opt_data, N, idx)\n",
    "        network_weight_path = '//scratch/cfoliveiradasi//railway_largescale//training_data_reduced//%s_N%.2d_%.3d_weight' %(opt_data, N, idx)\n",
    "        \n",
    "    opt_state.append(hyperpar_set[str(idx)][-1])\n",
    "    state_min.append(dict_data['state_min_%d' %opt_state[-1]])\n",
    "    state_max.append(dict_data['state_max_%d' %opt_state[-1]])\n",
    "        \n",
    "    network_info = np.load(network_info_path, allow_pickle=True).item()    \n",
    "    network_type = network_info['network_type']\n",
    "    input_size = network_info['input_size']\n",
    "    hidden_size = network_info['hidden_size']\n",
    "    num_layers = network_info['num_layers']\n",
    "    lr = network_info['lr']\n",
    "    dropout = network_info['dropout']\n",
    "    LR_scheduler = network_info['LR_scheduler']\n",
    "    \n",
    "    network = build_network(network_type, input_size, hidden_size, num_layers, lr, num_actions, batch_size, dropout)\n",
    "    network.load_state_dict(torch.load(network_weight_path, weights_only=True))\n",
    "    \n",
    "    h0.append(torch.zeros(num_layers, 1, hidden_size))\n",
    "    c0.append(torch.zeros(num_layers, 1, hidden_size))\n",
    "    \n",
    "    model_list.append(network)"
   ]
  },
  {
   "cell_type": "code",
   "execution_count": 1,
   "metadata": {},
   "outputs": [
    {
     "name": "stdout",
     "output_type": "stream",
     "text": [
      "0\n",
      "4\n"
     ]
    }
   ],
   "source": [
    "class Env():\n",
    "    def __init__(self):\n",
    "        Env.a = 0\n",
    "        \n",
    "env = Env()\n",
    "\n",
    "print(env.a)\n",
    "def test_fun(env):    \n",
    "\n",
    "    env.a = 4\n",
    "    # return tmp\n",
    "test_fun(env)\n",
    "print(env.a)"
   ]
  }
 ],
 "metadata": {
  "kernelspec": {
   "display_name": "microgrid",
   "language": "python",
   "name": "python3"
  },
  "language_info": {
   "codemirror_mode": {
    "name": "ipython",
    "version": 3
   },
   "file_extension": ".py",
   "mimetype": "text/x-python",
   "name": "python",
   "nbconvert_exporter": "python",
   "pygments_lexer": "ipython3",
   "version": "3.12.3"
  }
 },
 "nbformat": 4,
 "nbformat_minor": 2
}
