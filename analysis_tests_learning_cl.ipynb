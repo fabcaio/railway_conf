{
 "cells": [
  {
   "cell_type": "code",
   "execution_count": 1,
   "metadata": {},
   "outputs": [
    {
     "name": "stdout",
     "output_type": "stream",
     "text": [
      "number of datapoints = 2962\n"
     ]
    }
   ],
   "source": [
    "import numpy as np\n",
    "# import matplotlib.pyplot as plt\n",
    "\n",
    "opt = 'milp_cl'\n",
    "n_workers=10\n",
    "test_data_compressed = np.load('tests_ensemble//test_ensemble_all_%.3d.npy' %(0), allow_pickle=True).item()\n",
    "\n",
    "array_minlp_net_ws_10m = test_data_compressed['array_minlp_net_ws_10m']\n",
    "array_minlp_ws = test_data_compressed['array_minlp_ws']\n",
    "array_milp = test_data_compressed['array_milp']\n",
    "array_learning_lp = test_data_compressed['array_learning_lp']\n",
    "array_learning_nlp = test_data_compressed['array_learning_nlp']\n",
    "\n",
    "cntr_infeas_total_learning_lp = test_data_compressed['cntr_infeas_total_learning_lp']\n",
    "cntr_infeas_total_heuristic_lp = test_data_compressed['cntr_infeas_total_heuristic_lp']\n",
    "cntr_infeas_total_learning_nlp = test_data_compressed['cntr_infeas_total_learning_nlp']\n",
    "cntr_infeas_total_heuristic_nlp = test_data_compressed['cntr_infeas_total_heuristic_nlp']\n",
    "\n",
    "array_step_cost = test_data_compressed['array_step_cost']\n",
    "array_runtime_episode = test_data_compressed['array_runtime_episode']\n",
    "array_opt_gap_episode = test_data_compressed['array_opt_gap_episode']\n",
    "array_cost_episode = test_data_compressed['array_cost_episode']\n",
    "\n",
    "info = test_data_compressed['info']\n",
    "info_step_cost = test_data_compressed['info_step_cost']\n",
    "info_opt_gap = test_data_compressed['info (runtime and opt_gap episodes)']\n",
    "\n",
    "for job_idx in range(1, n_workers):\n",
    "    test_data_compressed = np.load('tests_ensemble//test_ensemble_all_%.3d.npy' %(job_idx), allow_pickle=True).item()\n",
    "    \n",
    "    array_minlp_net_ws_10m_tmp = test_data_compressed['array_minlp_net_ws_10m']\n",
    "    array_minlp_ws_tmp = test_data_compressed['array_minlp_ws']\n",
    "    array_milp_tmp = test_data_compressed['array_milp']\n",
    "    array_learning_lp_tmp = test_data_compressed['array_learning_lp']\n",
    "    array_learning_nlp_tmp = test_data_compressed['array_learning_nlp']\n",
    "    \n",
    "    array_step_cost_tmp = test_data_compressed['array_step_cost']\n",
    "    array_runtime_episode_tmp = test_data_compressed['array_runtime_episode']\n",
    "    array_opt_gap_episode_tmp = test_data_compressed['array_opt_gap_episode']\n",
    "    array_cost_episode_tmp = test_data_compressed['array_cost_episode']\n",
    "    \n",
    "    cntr_infeas_total_learning_nlp += test_data_compressed['cntr_infeas_total_learning_nlp']\n",
    "    cntr_infeas_total_learning_lp += test_data_compressed['cntr_infeas_total_learning_lp']\n",
    "    cntr_infeas_total_heuristic_nlp += test_data_compressed['cntr_infeas_total_heuristic_nlp']\n",
    "    cntr_infeas_total_heuristic_lp += test_data_compressed['cntr_infeas_total_heuristic_lp']\n",
    "    \n",
    "    array_minlp_net_ws_10m = np.concatenate((array_minlp_net_ws_10m, array_minlp_net_ws_10m_tmp))\n",
    "    array_minlp_ws = np.concatenate((array_minlp_ws, array_minlp_ws_tmp))\n",
    "    array_milp = np.concatenate((array_milp, array_milp_tmp))\n",
    "    array_learning_nlp = np.concatenate((array_learning_nlp, array_learning_nlp_tmp))\n",
    "    array_learning_lp = np.concatenate((array_learning_lp, array_learning_lp_tmp))\n",
    "    \n",
    "    array_step_cost = np.concatenate((array_step_cost, array_step_cost_tmp))\n",
    "    array_runtime_episode = np.concatenate((array_runtime_episode, array_runtime_episode_tmp))\n",
    "    array_opt_gap_episode = np.concatenate((array_opt_gap_episode, array_opt_gap_episode_tmp))\n",
    "    array_cost_episode = np.concatenate((array_cost_episode, array_cost_episode_tmp))\n",
    "    \n",
    "    \n",
    "num_datapoints = array_minlp_net_ws_10m.shape[0]\n",
    "print('number of datapoints =',num_datapoints)\n",
    "# idx_feasible_points = (array_learning_nlp[:,0]!=False)*(array_learning_lp[:,0]!=False)\n",
    "\n",
    "# array_minlp_net_ws_10m = array_minlp_net_ws_10m[idx_feasible_points]\n",
    "# array_minlp_ws = array_minlp_ws[idx_feasible_points]\n",
    "# array_milp = array_milp[idx_feasible_points]\n",
    "# array_learning_nlp = array_learning_nlp[idx_feasible_points]\n",
    "# array_learning_lp = array_learning_lp[idx_feasible_points]\n",
    "\n",
    "# array_minlp_net = array_minlp_net[idx_feasible_points]\n",
    "# array_minlp_net_ws = array_minlp_net_ws[idx_feasible_points]\n",
    "# array_minlp = array_minlp[idx_feasible_points]"
   ]
  },
  {
   "cell_type": "code",
   "execution_count": 2,
   "metadata": {},
   "outputs": [
    {
     "name": "stdout",
     "output_type": "stream",
     "text": [
      "Each array has a list containing [mdl.Runtime, cost_minlp, perc_minlp_cost, mdl.status]. The arrays learning_nlp, learning_nlp have extra elements [inference_time, number_model]. \n",
      " Arrays for the episodes have the total [cost, opt_gap, runtime] for each episode.\n",
      "\n",
      "[episode, method, step, 0]\n",
      "\n",
      "[episode number, method] 0: reference, 1: minlp_ws_et, 2: milp, 3: learning_lp, 4: learning_nlp\n"
     ]
    }
   ],
   "source": [
    "print(info + '\\n')\n",
    "print(info_step_cost+ '\\n')\n",
    "print(info_opt_gap)"
   ]
  },
  {
   "cell_type": "code",
   "execution_count": 3,
   "metadata": {},
   "outputs": [
    {
     "data": {
      "text/plain": [
       "(133, 86, 2962)"
      ]
     },
     "execution_count": 3,
     "metadata": {},
     "output_type": "execute_result"
    }
   ],
   "source": [
    "cntr_infeas_total_learning_nlp, cntr_infeas_total_learning_lp, num_datapoints"
   ]
  },
  {
   "cell_type": "code",
   "execution_count": 5,
   "metadata": {},
   "outputs": [
    {
     "name": "stdout",
     "output_type": "stream",
     "text": [
      "feasibility rate learning+lp: 97.10\n",
      "feasibility rate learning+nlp: 95.51\n"
     ]
    }
   ],
   "source": [
    "print('feasibility rate learning+lp: %.2f' %(100 - cntr_infeas_total_learning_lp/num_datapoints*100))\n",
    "print('feasibility rate learning+nlp: %.2f' %(100 - cntr_infeas_total_learning_nlp/num_datapoints*100))"
   ]
  },
  {
   "cell_type": "code",
   "execution_count": 6,
   "metadata": {},
   "outputs": [
    {
     "name": "stdout",
     "output_type": "stream",
     "text": [
      "feasibility rate learning+lp: 100.00\n",
      "feasibility rate learning+nlp: 99.90\n"
     ]
    }
   ],
   "source": [
    "print('feasibility rate learning+lp: %.2f' %(100 - cntr_infeas_total_heuristic_lp/num_datapoints*100))\n",
    "print('feasibility rate learning+nlp: %.2f' %(100 - cntr_infeas_total_heuristic_nlp/num_datapoints*100))"
   ]
  },
  {
   "cell_type": "code",
   "execution_count": 7,
   "metadata": {},
   "outputs": [
    {
     "name": "stdout",
     "output_type": "stream",
     "text": [
      "mean runtime minlp (net,ws,10m): \t 177.72 \n",
      "mean runtime minlp (et,ws): \t\t 33.74 \n",
      "mean runtime milp: \t\t\t 3.38 \n",
      "mean runtime learning_nlp: \t\t 7.62\n",
      "mean runtime learning_lp: \t\t 0.14\n"
     ]
    }
   ],
   "source": [
    "print('mean runtime minlp (net,ws,10m): \\t %.2f ' %(np.mean(array_minlp_net_ws_10m[:,0])))\n",
    "print('mean runtime minlp (et,ws): \\t\\t %.2f ' %(np.mean(array_minlp_ws[:,0])))\n",
    "print('mean runtime milp: \\t\\t\\t %.2f ' %(np.mean(array_milp[:,0])))\n",
    "print('mean runtime learning_nlp: \\t\\t %.2f' %(np.mean(array_learning_nlp[:,0])))\n",
    "print('mean runtime learning_lp: \\t\\t %.2f' %(np.mean(array_learning_lp[:,0])))"
   ]
  },
  {
   "cell_type": "code",
   "execution_count": 8,
   "metadata": {},
   "outputs": [
    {
     "name": "stdout",
     "output_type": "stream",
     "text": [
      "mean opt_gap minlp (net,ws,10m): \t 0.00 \n",
      "mean opt_gap minlp (et,ws): \t\t -0.35 \n",
      "mean opt_gap milp: \t\t\t 0.05 \n",
      "mean opt_gap learning_nlp: \t\t -0.09\n",
      "mean opt_gap learning_lp: \t\t -0.15\n"
     ]
    }
   ],
   "source": [
    "print('mean opt_gap minlp (net,ws,10m): \\t %.2f ' %(np.mean(array_minlp_net_ws_10m[:,2])))\n",
    "print('mean opt_gap minlp (et,ws): \\t\\t %.2f ' %(np.mean(array_minlp_ws[:,2])))\n",
    "print('mean opt_gap milp: \\t\\t\\t %.2f ' %(np.mean(array_milp[:,2])))\n",
    "print('mean opt_gap learning_nlp: \\t\\t %.2f' %(np.mean(array_learning_nlp[:,2])))\n",
    "print('mean opt_gap learning_lp: \\t\\t %.2f' %(np.mean(array_learning_lp[:,2])))"
   ]
  },
  {
   "cell_type": "code",
   "execution_count": 9,
   "metadata": {},
   "outputs": [
    {
     "name": "stdout",
     "output_type": "stream",
     "text": [
      "runtime minlp (net,ws,10m): \t 0.04/177.72/600.13 \n",
      "runtime minlp (et,ws): \t\t 4.45/33.74/240.04 \n",
      "runtime milp: \t\t\t 0.44/3.38/55.35 \n",
      "runtime learning_nlp: \t\t 1.92/7.62/103.34 \n",
      "runtime learning_lp: \t\t 0.11/0.14/0.50 \n"
     ]
    }
   ],
   "source": [
    "print('runtime minlp (net,ws,10m): \\t %.2f/%.2f/%.2f ' %(np.min(array_minlp_net_ws_10m[:,0]), np.mean(array_minlp_net_ws_10m[:,0]), np.max(array_minlp_net_ws_10m[:,0])))\n",
    "print('runtime minlp (et,ws): \\t\\t %.2f/%.2f/%.2f ' %(np.min(array_minlp_ws[:,0]), np.mean(array_minlp_ws[:,0]), np.max(array_minlp_ws[:,0])))\n",
    "print('runtime milp: \\t\\t\\t %.2f/%.2f/%.2f ' %(np.min(array_milp[:,0]), np.mean(array_milp[:,0]), np.max(array_milp[:,0])))\n",
    "print('runtime learning_nlp: \\t\\t %.2f/%.2f/%.2f ' %(np.min(array_learning_nlp[:,0]), np.mean(array_learning_nlp[:,0]), np.max(array_learning_nlp[:,0])))\n",
    "print('runtime learning_lp: \\t\\t %.2f/%.2f/%.2f ' %(np.min(array_learning_lp[:,0]), np.mean(array_learning_lp[:,0]), np.max(array_learning_lp[:,0])))"
   ]
  },
  {
   "cell_type": "code",
   "execution_count": 10,
   "metadata": {},
   "outputs": [
    {
     "name": "stdout",
     "output_type": "stream",
     "text": [
      "opt_gap minlp (net,ws,10m): \t 0.00/0.00/0.00 \n",
      "opt_gap minlp (et,ws): \t\t -39.50/-0.35/1.93 \n",
      "opt_gap milp: \t\t\t -38.96/0.05/1.76 \n",
      "opt_gap learning_nlp: \t\t -39.03/-0.09/5.58 \n",
      "opt_gap learning_lp: \t\t -39.71/-0.15/3.61 \n"
     ]
    }
   ],
   "source": [
    "print('opt_gap minlp (net,ws,10m): \\t %.2f/%.2f/%.2f ' %(np.min(array_minlp_net_ws_10m[:,2]), np.mean(array_minlp_net_ws_10m[:,2]), np.max(array_minlp_net_ws_10m[:,2])))\n",
    "print('opt_gap minlp (et,ws): \\t\\t %.2f/%.2f/%.2f ' %(np.min(array_minlp_ws[:,2]), np.mean(array_minlp_ws[:,2]), np.max(array_minlp_ws[:,2])))\n",
    "print('opt_gap milp: \\t\\t\\t %.2f/%.2f/%.2f ' %(np.min(array_milp[:,2]), np.mean(array_milp[:,2]), np.max(array_milp[:,2])))\n",
    "print('opt_gap learning_nlp: \\t\\t %.2f/%.2f/%.2f ' %(np.min(array_learning_nlp[:,2]), np.mean(array_learning_nlp[:,2]), np.max(array_learning_nlp[:,2])))\n",
    "print('opt_gap learning_lp: \\t\\t %.2f/%.2f/%.2f ' %(np.min(array_learning_lp[:,2]), np.mean(array_learning_lp[:,2]), np.max(array_learning_lp[:,2])))"
   ]
  }
 ],
 "metadata": {
  "kernelspec": {
   "display_name": "RL_env",
   "language": "python",
   "name": "python3"
  },
  "language_info": {
   "codemirror_mode": {
    "name": "ipython",
    "version": 3
   },
   "file_extension": ".py",
   "mimetype": "text/x-python",
   "name": "python",
   "nbconvert_exporter": "python",
   "pygments_lexer": "ipython3",
   "version": "3.12.3"
  }
 },
 "nbformat": 4,
 "nbformat_minor": 2
}
